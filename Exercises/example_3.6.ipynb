{
  "nbformat": 4,
  "nbformat_minor": 0,
  "metadata": {
    "colab": {
      "provenance": []
    },
    "kernelspec": {
      "name": "python3",
      "display_name": "Python 3"
    },
    "language_info": {
      "name": "python"
    }
  },
  "cells": [
    {
      "cell_type": "code",
      "execution_count": 6,
      "metadata": {
        "colab": {
          "base_uri": "https://localhost:8080/"
        },
        "id": "AgZm_HvYobbC",
        "outputId": "d8ff3cd8-0bb6-4e92-b3d5-90f53b16610a"
      },
      "outputs": [
        {
          "output_type": "stream",
          "name": "stdout",
          "text": [
            "P(A1) = 0.5\n",
            "P(A2) = 0.5\n",
            "P(A3) = 0.5\n",
            "\n",
            "P(A1 ∩ A2) = 0.25 vs P(A1)P(A2) = 0.25\n",
            "P(A1 ∩ A3) = 0.25 vs P(A1)P(A3) = 0.25\n",
            "P(A2 ∩ A3) = 0.25 vs P(A2)P(A3) = 0.25\n",
            "\n",
            "P(A1 ∩ A2 ∩ A3) = 0.125 vs P(A1)P(A2)P(A3) = 0.125\n"
          ]
        }
      ],
      "source": [
        "import itertools\n",
        "\n",
        "# Liệt kê tất cả kết quả của 3 lần tung đồng xu (0=Tails, 1=Heads)\n",
        "outcomes = list(itertools.product([0, 1], repeat=3))\n",
        "\n",
        "# Định nghĩa biến cố A1, A2, A3\n",
        "event_A1 = [o for o in outcomes if o[0] == 1]  # Lần 1 ra Ngửa\n",
        "event_A2 = [o for o in outcomes if o[1] == 1]  # Lần 2 ra Ngửa\n",
        "event_A3 = [o for o in outcomes if o[2] == 1]  # Lần 3 ra Ngửa\n",
        "\n",
        "# Tính xác suất từng biến cố\n",
        "prob_A1 = len(event_A1) / len(outcomes)\n",
        "prob_A2 = len(event_A2) / len(outcomes)\n",
        "prob_A3 = len(event_A3) / len(outcomes)\n",
        "\n",
        "# Tính xác suất giao đôi\n",
        "event_A1_A2 = [o for o in outcomes if o[0] == 1 and o[1] == 1]\n",
        "event_A1_A3 = [o for o in outcomes if o[0] == 1 and o[2] == 1]\n",
        "event_A2_A3 = [o for o in outcomes if o[1] == 1 and o[2] == 1]\n",
        "\n",
        "prob_A1_A2 = len(event_A1_A2) / len(outcomes)\n",
        "prob_A1_A3 = len(event_A1_A3) / len(outcomes)\n",
        "prob_A2_A3 = len(event_A2_A3) / len(outcomes)\n",
        "\n",
        "# Tính xác suất giao ba\n",
        "event_A1_A2_A3 = [o for o in outcomes if o[0] == 1 and o[1] == 1 and o[2] == 1]\n",
        "prob_A1_A2_A3 = len(event_A1_A2_A3) / len(outcomes)\n",
        "\n",
        "# In kết quả\n",
        "print(f\"P(A1) = {prob_A1}\")\n",
        "print(f\"P(A2) = {prob_A2}\")\n",
        "print(f\"P(A3) = {prob_A3}\\n\")\n",
        "\n",
        "print(f\"P(A1 ∩ A2) = {prob_A1_A2} vs P(A1)P(A2) = {prob_A1 * prob_A2}\")\n",
        "print(f\"P(A1 ∩ A3) = {prob_A1_A3} vs P(A1)P(A3) = {prob_A1 * prob_A3}\")\n",
        "print(f\"P(A2 ∩ A3) = {prob_A2_A3} vs P(A2)P(A3) = {prob_A2 * prob_A3}\\n\")\n",
        "\n",
        "print(f\"P(A1 ∩ A2 ∩ A3) = {prob_A1_A2_A3} vs P(A1)P(A2)P(A3) = {prob_A1 * prob_A2 * prob_A3}\")"
      ]
    },
    {
      "cell_type": "code",
      "source": [],
      "metadata": {
        "id": "vghGNxwBqYYZ"
      },
      "execution_count": null,
      "outputs": []
    }
  ]
}