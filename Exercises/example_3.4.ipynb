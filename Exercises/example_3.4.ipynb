{
  "nbformat": 4,
  "nbformat_minor": 0,
  "metadata": {
    "colab": {
      "provenance": []
    },
    "kernelspec": {
      "name": "python3",
      "display_name": "Python 3"
    },
    "language_info": {
      "name": "python"
    }
  },
  "cells": [
    {
      "cell_type": "code",
      "execution_count": 5,
      "metadata": {
        "colab": {
          "base_uri": "https://localhost:8080/"
        },
        "id": "AgZm_HvYobbC",
        "outputId": "e2f513d4-2bdb-4ae7-9519-ec1c148e4785"
      },
      "outputs": [
        {
          "output_type": "stream",
          "name": "stdout",
          "text": [
            "== Tung đồng xu hai lần ==\n",
            "P(A) = 0.5\n",
            "P(B) = 0.5\n",
            "P(A ∩ B) = 0.25\n",
            "P(A) * P(B) = 0.25\n",
            "→ A và B độc lập: True\n",
            "\n",
            "== Rút bi không hoàn lại từ túi (2 Đ, 1 X) ==\n",
            "P(C) = 0.3333333333333333\n",
            "P(D) = 0.3333333333333333\n",
            "P(C ∩ D) = 0.0\n",
            "P(C) * P(D) = 0.1111111111111111\n",
            "→ C và D phụ thuộc: True\n"
          ]
        }
      ],
      "source": [
        "import itertools\n",
        "\n",
        "# Các khả năng: N = Ngửa (Heads), S = Sấp (Tails)\n",
        "outcomes = list(itertools.product(['N', 'S'], repeat=2))\n",
        "\n",
        "# Sự kiện A: lần 1 là Ngửa\n",
        "# Sự kiện B: lần 2 là Ngửa\n",
        "event_A = [o for o in outcomes if o[0] == 'N']\n",
        "event_B = [o for o in outcomes if o[1] == 'N']\n",
        "event_A_and_B = [o for o in outcomes if o[0] == 'N' and o[1] == 'N']\n",
        "\n",
        "P_A = len(event_A) / len(outcomes)\n",
        "P_B = len(event_B) / len(outcomes)\n",
        "P_A_and_B = len(event_A_and_B) / len(outcomes)\n",
        "P_A_times_P_B = P_A * P_B\n",
        "\n",
        "print(\"== Tung đồng xu hai lần ==\")\n",
        "print(f\"P(A) = {P_A}\")\n",
        "print(f\"P(B) = {P_B}\")\n",
        "print(f\"P(A ∩ B) = {P_A_and_B}\")\n",
        "print(f\"P(A) * P(B) = {P_A_times_P_B}\")\n",
        "print(\"→ A và B độc lập:\", P_A_and_B == P_A_times_P_B)\n",
        "\n",
        "\n",
        "# Giả sử túi có: ['Đỏ', 'Đỏ', 'Xanh']\n",
        "balls = ['Đ', 'Đ', 'X']\n",
        "\n",
        "# Liệt kê tất cả cách rút 2 viên không hoàn lại\n",
        "draws = list(itertools.permutations(balls, 2))\n",
        "\n",
        "# Sự kiện C: viên 1 là Xanh\n",
        "# Sự kiện D: viên 2 là Xanh\n",
        "event_C = [d for d in draws if d[0] == 'X']\n",
        "event_D = [d for d in draws if d[1] == 'X']\n",
        "event_C_and_D = [d for d in draws if d[0] == 'X' and d[1] == 'X']\n",
        "\n",
        "P_C = len(event_C) / len(draws)\n",
        "P_D = len(event_D) / len(draws)\n",
        "P_C_and_D = len(event_C_and_D) / len(draws)\n",
        "P_C_times_P_D = P_C * P_D\n",
        "\n",
        "print(\"\\n== Rút bi không hoàn lại từ túi (2 Đ, 1 X) ==\")\n",
        "print(f\"P(C) = {P_C}\")\n",
        "print(f\"P(D) = {P_D}\")\n",
        "print(f\"P(C ∩ D) = {P_C_and_D}\")\n",
        "print(f\"P(C) * P(D) = {P_C_times_P_D}\")\n",
        "print(\"→ C và D phụ thuộc:\", P_C_and_D != P_C_times_P_D)"
      ]
    }
  ]
}