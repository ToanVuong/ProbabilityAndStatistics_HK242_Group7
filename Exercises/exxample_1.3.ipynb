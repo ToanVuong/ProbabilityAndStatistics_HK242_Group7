{
  "nbformat": 4,
  "nbformat_minor": 0,
  "metadata": {
    "colab": {
      "provenance": []
    },
    "kernelspec": {
      "name": "python3",
      "display_name": "Python 3"
    },
    "language_info": {
      "name": "python"
    }
  },
  "cells": [
    {
      "cell_type": "code",
      "execution_count": 2,
      "metadata": {
        "colab": {
          "base_uri": "https://localhost:8080/"
        },
        "id": "AgZm_HvYobbC",
        "outputId": "f70991f7-bf00-4587-c55c-0adc810eddae"
      },
      "outputs": [
        {
          "output_type": "stream",
          "name": "stdout",
          "text": [
            "Số phần tử A1 (chẵn ko chia hết 4): 25\n",
            "Số phần tử A2 (chia hết 4 ko chia hết 8): 13\n",
            "Số phần tử A3 (chia hết 8 ko chia hết 16): 6\n",
            "Số phần tử A4 (chia hết 16): 6\n",
            "\n",
            "Kiểm tra giao nhau giữa các sự kiện:\n",
            "A1 ∩ A2 = ∅\n",
            "A1 ∩ A3 = ∅\n",
            "A1 ∩ A4 = ∅\n",
            "A2 ∩ A3 = ∅\n",
            "A2 ∩ A4 = ∅\n",
            "A3 ∩ A4 = ∅\n",
            "\n",
            "Xác suất từng sự kiện:\n",
            "P(A1) = 0.250\n",
            "P(A2) = 0.130\n",
            "P(A3) = 0.060\n",
            "P(A4) = 0.060\n",
            "\n",
            "Tổng xác suất các sự kiện riêng lẻ (cộng tính): 0.500\n",
            "Xác suất hợp A1 ∪ A2 ∪ A3 ∪ A4: 0.500\n"
          ]
        }
      ],
      "source": [
        "# Tổng số phần tử trong không gian mẫu\n",
        "N = 100\n",
        "\n",
        "# Định nghĩa các sự kiện A1, A2, A3, A4 như các tập hợp\n",
        "A1 = set(x for x in range(1, N+1) if x % 2 == 0 and x % 4 != 0)  # Chẵn mà ko chia hết cho 4\n",
        "A2 = set(x for x in range(1, N+1) if x % 4 == 0 and x % 8 != 0)  # Chia hết cho 4 mà ko chia hết cho 8\n",
        "A3 = set(x for x in range(1, N+1) if x % 8 == 0 and x % 16 != 0) # Chia hết cho 8 mà ko chia hết cho 16\n",
        "A4 = set(x for x in range(1, N+1) if x % 16 == 0)               # Chia hết cho 16\n",
        "\n",
        "# In số phần tử từng tập\n",
        "print(f\"Số phần tử A1 (chẵn ko chia hết 4): {len(A1)}\")\n",
        "print(f\"Số phần tử A2 (chia hết 4 ko chia hết 8): {len(A2)}\")\n",
        "print(f\"Số phần tử A3 (chia hết 8 ko chia hết 16): {len(A3)}\")\n",
        "print(f\"Số phần tử A4 (chia hết 16): {len(A4)}\")\n",
        "\n",
        "# Kiểm tra tính xung khắc\n",
        "print(\"\\nKiểm tra giao nhau giữa các sự kiện:\")\n",
        "for i, Ai in enumerate([A1, A2, A3, A4], 1):\n",
        "    for j, Aj in enumerate([A1, A2, A3, A4], 1):\n",
        "        if i < j:\n",
        "            inter = Ai & Aj\n",
        "            if inter:\n",
        "                print(f\"A{i} ∩ A{j} ≠ ∅ (giao: {sorted(inter)})\")\n",
        "            else:\n",
        "                print(f\"A{i} ∩ A{j} = ∅\")\n",
        "\n",
        "# Tính xác suất từng sự kiện\n",
        "P_A1 = len(A1) / N\n",
        "P_A2 = len(A2) / N\n",
        "P_A3 = len(A3) / N\n",
        "P_A4 = len(A4) / N\n",
        "\n",
        "# Tổng xác suất riêng lẻ\n",
        "sum_individual = P_A1 + P_A2 + P_A3 + P_A4\n",
        "\n",
        "# Xác suất hợp các sự kiện\n",
        "union_all = A1 | A2 | A3 | A4\n",
        "P_union = len(union_all) / N\n",
        "\n",
        "# In kết quả\n",
        "print(\"\\nXác suất từng sự kiện:\")\n",
        "print(f\"P(A1) = {P_A1:.3f}\")\n",
        "print(f\"P(A2) = {P_A2:.3f}\")\n",
        "print(f\"P(A3) = {P_A3:.3f}\")\n",
        "print(f\"P(A4) = {P_A4:.3f}\")\n",
        "\n",
        "print(f\"\\nTổng xác suất các sự kiện riêng lẻ (cộng tính): {sum_individual:.3f}\")\n",
        "print(f\"Xác suất hợp A1 ∪ A2 ∪ A3 ∪ A4: {P_union:.3f}\")"
      ]
    },
    {
      "cell_type": "code",
      "source": [],
      "metadata": {
        "id": "k9L6SV3vpkTK"
      },
      "execution_count": null,
      "outputs": []
    }
  ]
}